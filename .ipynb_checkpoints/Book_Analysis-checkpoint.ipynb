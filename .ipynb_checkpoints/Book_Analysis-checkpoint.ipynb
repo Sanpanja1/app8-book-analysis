{
 "cells": [
  {
   "cell_type": "code",
   "execution_count": null,
   "id": "20a482c5-6fa4-4666-a872-63a16b74ec8d",
   "metadata": {},
   "outputs": [],
   "source": [
    "with open(\"miracle_in_the_andes.txt\",\"r\") as file:\n",
    "    book=file.read()"
   ]
  }
 ],
 "metadata": {
  "kernelspec": {
   "display_name": "Python 3 (ipykernel)",
   "language": "python",
   "name": "python3"
  },
  "language_info": {
   "codemirror_mode": {
    "name": "ipython",
    "version": 3
   },
   "file_extension": ".py",
   "mimetype": "text/x-python",
   "name": "python",
   "nbconvert_exporter": "python",
   "pygments_lexer": "ipython3",
   "version": "3.10.11"
  }
 },
 "nbformat": 4,
 "nbformat_minor": 5
}
